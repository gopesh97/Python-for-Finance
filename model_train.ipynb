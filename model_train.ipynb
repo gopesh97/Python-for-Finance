{
 "cells": [
  {
   "cell_type": "code",
   "execution_count": 2,
   "metadata": {},
   "outputs": [],
   "source": [
    "# Importing Packages\n",
    "import numpy as np\n",
    "import matplotlib.pyplot as plt\n",
    "import pandas as pd\n",
    "import keras\n",
    "from keras.models import load_model\n",
    "from tensorflow.contrib import lite\n",
    "from sklearn.preprocessing import MinMaxScaler\n",
    "from keras.models import Sequential\n",
    "from keras.layers import Dense, Dropout, LSTM"
   ]
  },
  {
   "cell_type": "code",
   "execution_count": 26,
   "metadata": {},
   "outputs": [],
   "source": [
    "# Importing Dataset\n",
    "dataset_train = pd.read_csv('google_train.csv')\n",
    "train_dataset = dataset_train.iloc[:, 1:2].values"
   ]
  },
  {
   "cell_type": "code",
   "execution_count": 2,
   "metadata": {},
   "outputs": [],
   "source": [
    "# Scaling\n",
    "\n",
    "sc = MinMaxScaler()"
   ]
  },
  {
   "cell_type": "code",
   "execution_count": 37,
   "metadata": {},
   "outputs": [],
   "source": [
    "train_dataset_scaled = sc.fit_transform (train_dataset)"
   ]
  },
  {
   "cell_type": "code",
   "execution_count": 38,
   "metadata": {},
   "outputs": [],
   "source": [
    "X_train = []\n",
    "y_train = []\n",
    "\n",
    "for i in range(60, train_dataset.shape[0]):\n",
    "    X_train.append(train_dataset_scaled[i-60: i, 0])\n",
    "    y_train.append(train_dataset_scaled[i, 0])\n",
    "\n",
    "X_train, y_train = np.array(X_train), np.array(y_train)\n",
    "\n",
    "X_train = np.reshape(X_train, (X_train.shape[0], X_train.shape[1], 1))"
   ]
  },
  {
   "cell_type": "code",
   "execution_count": 40,
   "metadata": {
    "scrolled": true
   },
   "outputs": [
    {
     "name": "stdout",
     "output_type": "stream",
     "text": [
      "Epoch 1/50\n",
      "3213/3213 [==============================] - 16s 5ms/step - loss: 0.0090\n",
      "Epoch 2/50\n",
      "3213/3213 [==============================] - 12s 4ms/step - loss: 0.0019\n",
      "Epoch 3/50\n",
      "3213/3213 [==============================] - 11s 4ms/step - loss: 0.0018\n",
      "Epoch 4/50\n",
      "3213/3213 [==============================] - 12s 4ms/step - loss: 0.0018\n",
      "Epoch 5/50\n",
      "3213/3213 [==============================] - 11s 4ms/step - loss: 0.0017\n",
      "Epoch 6/50\n",
      "3213/3213 [==============================] - 11s 4ms/step - loss: 0.0018\n",
      "Epoch 7/50\n",
      "3213/3213 [==============================] - 11s 4ms/step - loss: 0.0014\n",
      "Epoch 8/50\n",
      "3213/3213 [==============================] - 12s 4ms/step - loss: 0.0016\n",
      "Epoch 9/50\n",
      "3213/3213 [==============================] - 12s 4ms/step - loss: 0.0014\n",
      "Epoch 10/50\n",
      "3213/3213 [==============================] - 12s 4ms/step - loss: 0.0012\n",
      "Epoch 11/50\n",
      "3213/3213 [==============================] - 12s 4ms/step - loss: 0.0014\n",
      "Epoch 12/50\n",
      "3213/3213 [==============================] - 12s 4ms/step - loss: 0.0012\n",
      "Epoch 13/50\n",
      "3213/3213 [==============================] - 12s 4ms/step - loss: 0.0013\n",
      "Epoch 14/50\n",
      "3213/3213 [==============================] - 12s 4ms/step - loss: 0.0011\n",
      "Epoch 15/50\n",
      "3213/3213 [==============================] - 12s 4ms/step - loss: 0.0011\n",
      "Epoch 16/50\n",
      "3213/3213 [==============================] - 12s 4ms/step - loss: 0.0011\n",
      "Epoch 17/50\n",
      "3213/3213 [==============================] - 12s 4ms/step - loss: 0.0011\n",
      "Epoch 18/50\n",
      "3213/3213 [==============================] - 12s 4ms/step - loss: 9.7205e-04\n",
      "Epoch 19/50\n",
      "3213/3213 [==============================] - 12s 4ms/step - loss: 9.7229e-04\n",
      "Epoch 20/50\n",
      "3213/3213 [==============================] - 12s 4ms/step - loss: 0.0012\n",
      "Epoch 21/50\n",
      "3213/3213 [==============================] - 12s 4ms/step - loss: 0.0010\n",
      "Epoch 22/50\n",
      "3213/3213 [==============================] - 12s 4ms/step - loss: 9.9283e-04\n",
      "Epoch 23/50\n",
      "3213/3213 [==============================] - 12s 4ms/step - loss: 8.8625e-04\n",
      "Epoch 24/50\n",
      "3213/3213 [==============================] - 12s 4ms/step - loss: 0.0011\n",
      "Epoch 25/50\n",
      "3213/3213 [==============================] - 12s 4ms/step - loss: 8.3209e-04\n",
      "Epoch 26/50\n",
      "3213/3213 [==============================] - 12s 4ms/step - loss: 8.9767e-04\n",
      "Epoch 27/50\n",
      "3213/3213 [==============================] - 12s 4ms/step - loss: 8.0735e-04\n",
      "Epoch 28/50\n",
      "3213/3213 [==============================] - 12s 4ms/step - loss: 7.2718e-04\n",
      "Epoch 29/50\n",
      "3213/3213 [==============================] - 12s 4ms/step - loss: 8.7249e-04\n",
      "Epoch 30/50\n",
      "3213/3213 [==============================] - 12s 4ms/step - loss: 8.2427e-04\n",
      "Epoch 31/50\n",
      "3213/3213 [==============================] - 12s 4ms/step - loss: 7.5668e-04\n",
      "Epoch 32/50\n",
      "3213/3213 [==============================] - 12s 4ms/step - loss: 8.3390e-04\n",
      "Epoch 33/50\n",
      "3213/3213 [==============================] - 12s 4ms/step - loss: 7.4967e-04\n",
      "Epoch 34/50\n",
      "3213/3213 [==============================] - 12s 4ms/step - loss: 8.2776e-04\n",
      "Epoch 35/50\n",
      "3213/3213 [==============================] - 12s 4ms/step - loss: 7.2133e-04\n",
      "Epoch 36/50\n",
      "3213/3213 [==============================] - 13s 4ms/step - loss: 6.9938e-04\n",
      "Epoch 37/50\n",
      "3213/3213 [==============================] - 12s 4ms/step - loss: 7.8262e-04\n",
      "Epoch 38/50\n",
      "3213/3213 [==============================] - 12s 4ms/step - loss: 8.2784e-04\n",
      "Epoch 39/50\n",
      "3213/3213 [==============================] - 12s 4ms/step - loss: 6.9388e-04\n",
      "Epoch 40/50\n",
      "3213/3213 [==============================] - 12s 4ms/step - loss: 7.0411e-04\n",
      "Epoch 41/50\n",
      "3213/3213 [==============================] - 12s 4ms/step - loss: 6.3776e-04\n",
      "Epoch 42/50\n",
      "3213/3213 [==============================] - 12s 4ms/step - loss: 6.8665e-04\n",
      "Epoch 43/50\n",
      "3213/3213 [==============================] - 12s 4ms/step - loss: 7.0570e-04\n",
      "Epoch 44/50\n",
      "3213/3213 [==============================] - 12s 4ms/step - loss: 6.8863e-04\n",
      "Epoch 45/50\n",
      "3213/3213 [==============================] - 12s 4ms/step - loss: 6.9449e-04\n",
      "Epoch 46/50\n",
      "3213/3213 [==============================] - 12s 4ms/step - loss: 8.2133e-04\n",
      "Epoch 47/50\n",
      "3213/3213 [==============================] - 12s 4ms/step - loss: 7.4369e-04\n",
      "Epoch 48/50\n",
      "3213/3213 [==============================] - 12s 4ms/step - loss: 6.2250e-04\n",
      "Epoch 49/50\n",
      "3213/3213 [==============================] - 12s 4ms/step - loss: 9.9489e-04\n",
      "Epoch 50/50\n",
      "3213/3213 [==============================] - 12s 4ms/step - loss: 6.9578e-04\n"
     ]
    },
    {
     "data": {
      "text/plain": [
       "<keras.callbacks.History at 0x7fa286b31d30>"
      ]
     },
     "execution_count": 40,
     "metadata": {},
     "output_type": "execute_result"
    }
   ],
   "source": [
    "# Part -2 Model\n",
    "regressor = Sequential()\n",
    "\n",
    "regressor.add(LSTM(units=50, return_sequences=True, input_shape=(X_train.shape[1],1)))\n",
    "regressor.add(Dropout(0.2))\n",
    "\n",
    "regressor.add(LSTM(units=50, return_sequences=True))\n",
    "regressor.add(Dropout(0.2))\n",
    "\n",
    "regressor.add(LSTM(units=50, return_sequences=True))\n",
    "regressor.add(Dropout(0.2))\n",
    "\n",
    "regressor.add(LSTM(units=50))\n",
    "regressor.add(Dropout(0.2))\n",
    "\n",
    "regressor.add(Dense(units=1))\n",
    "\n",
    "regressor.compile('adam', loss='mean_squared_error')\n",
    "\n",
    "regressor.fit(X_train, y_train, batch_size=32, epochs=50)"
   ]
  },
  {
   "cell_type": "code",
   "execution_count": 41,
   "metadata": {},
   "outputs": [],
   "source": [
    "dataset_test = pd.read_csv('google_test.csv')\n",
    "real_values = dataset_test.iloc[:, 1:2].values"
   ]
  },
  {
   "cell_type": "code",
   "execution_count": 42,
   "metadata": {},
   "outputs": [],
   "source": [
    "# Part -3 Predicting results\n",
    "\n",
    "\n",
    "dataset_total = pd.concat((dataset_train['Open'], dataset_test['Open']), axis=0)"
   ]
  },
  {
   "cell_type": "code",
   "execution_count": 43,
   "metadata": {},
   "outputs": [],
   "source": [
    "dataset_total = dataset_total[len(dataset_total) - len(dataset_test) - 60:].values"
   ]
  },
  {
   "cell_type": "code",
   "execution_count": 44,
   "metadata": {},
   "outputs": [],
   "source": [
    "dataset_total = dataset_total.reshape(-1, 1)\n"
   ]
  },
  {
   "cell_type": "code",
   "execution_count": 45,
   "metadata": {},
   "outputs": [],
   "source": [
    "X_test = []\n",
    "\n",
    "for i in range(60, dataset_total.shape[0]):\n",
    "    X_test.append(dataset_total[i-60: i, 0])\n",
    "\n",
    "X_test = np.array(X_test)\n",
    "\n",
    "X_test = sc.transform(X_test)\n",
    "\n",
    "X_test = np.reshape(X_test, (X_test.shape[0], X_test.shape[1], 1))\n",
    "\n",
    "pred = regressor.predict(X_test)\n",
    "\n",
    "pred = sc.inverse_transform(pred)"
   ]
  },
  {
   "cell_type": "code",
   "execution_count": 46,
   "metadata": {},
   "outputs": [
    {
     "data": {
      "image/png": "[encoded data removed]",
      "text/plain": [
       "<Figure size 432x288 with 1 Axes>"
      ]
     },
     "metadata": {
      "needs_background": "light"
     },
     "output_type": "display_data"
    }
   ],
   "source": [
    "# Visualising Results\n",
    "plt.plot(real_values, label = 'real values')\n",
    "plt.plot(pred, label = 'predicted values')\n",
    "plt.xlabel('Time')\n",
    "plt.ylabel('Stock Prices')\n",
    "plt.legend()\n",
    "plt.show()"
   ]
  },
  {
   "cell_type": "markdown",
   "metadata": {},
   "source": [
    "# Apple"
   ]
  },
  {
   "cell_type": "code",
   "execution_count": 3,
   "metadata": {},
   "outputs": [],
   "source": [
    "dataset_train = pd.read_csv('AAPL1.csv')\n",
    "train_dataset = dataset_train.iloc[:, 1:2].values\n",
    "train_dataset_scaled = sc.fit_transform(train_dataset)\n",
    "X_train = []\n",
    "y_train = []\n",
    "\n",
    "for i in range(60, train_dataset.shape[0]):\n",
    "    X_train.append(train_dataset_scaled[i-60: i, 0])\n",
    "    y_train.append(train_dataset_scaled[i, 0])\n",
    "\n",
    "X_train, y_train = np.array(X_train), np.array(y_train)\n",
    "\n",
    "X_train = np.reshape(X_train, (X_train.shape[0], X_train.shape[1], 1))"
   ]
  },
  {
   "cell_type": "code",
   "execution_count": 4,
   "metadata": {
    "scrolled": true
   },
   "outputs": [
    {
     "name": "stdout",
     "output_type": "stream",
     "text": [
      "Epoch 1/50\n",
      "3213/3213 [==============================] - 13s 4ms/step - loss: 0.0127\n",
      "Epoch 2/50\n",
      "3213/3213 [==============================] - 11s 4ms/step - loss: 0.0022\n",
      "Epoch 3/50\n",
      "3213/3213 [==============================] - 11s 4ms/step - loss: 0.0021\n",
      "Epoch 4/50\n",
      "3213/3213 [==============================] - 12s 4ms/step - loss: 0.0020\n",
      "Epoch 5/50\n",
      "3213/3213 [==============================] - 11s 4ms/step - loss: 0.0019\n",
      "Epoch 6/50\n",
      "3213/3213 [==============================] - 12s 4ms/step - loss: 0.0021\n",
      "Epoch 7/50\n",
      "3213/3213 [==============================] - 11s 4ms/step - loss: 0.0020\n",
      "Epoch 8/50\n",
      "3213/3213 [==============================] - 11s 4ms/step - loss: 0.0017\n",
      "Epoch 9/50\n",
      "3213/3213 [==============================] - 11s 4ms/step - loss: 0.0015\n",
      "Epoch 10/50\n",
      "3213/3213 [==============================] - 11s 4ms/step - loss: 0.0014\n",
      "Epoch 11/50\n",
      "3213/3213 [==============================] - 12s 4ms/step - loss: 0.0015\n",
      "Epoch 12/50\n",
      "3213/3213 [==============================] - 12s 4ms/step - loss: 0.0021\n",
      "Epoch 13/50\n",
      "3213/3213 [==============================] - 12s 4ms/step - loss: 0.0013\n",
      "Epoch 14/50\n",
      "3213/3213 [==============================] - 12s 4ms/step - loss: 0.0014\n",
      "Epoch 15/50\n",
      "3213/3213 [==============================] - 12s 4ms/step - loss: 0.0013\n",
      "Epoch 16/50\n",
      "3213/3213 [==============================] - 12s 4ms/step - loss: 0.0014\n",
      "Epoch 17/50\n",
      "3213/3213 [==============================] - 13s 4ms/step - loss: 0.0011\n",
      "Epoch 18/50\n",
      "3213/3213 [==============================] - 12s 4ms/step - loss: 0.0012\n",
      "Epoch 19/50\n",
      "3213/3213 [==============================] - 12s 4ms/step - loss: 0.0012\n",
      "Epoch 20/50\n",
      "3213/3213 [==============================] - 12s 4ms/step - loss: 0.0011\n",
      "Epoch 21/50\n",
      "3213/3213 [==============================] - 12s 4ms/step - loss: 0.0011\n",
      "Epoch 22/50\n",
      "3213/3213 [==============================] - 12s 4ms/step - loss: 0.0011\n",
      "Epoch 23/50\n",
      "3213/3213 [==============================] - 12s 4ms/step - loss: 0.0010\n",
      "Epoch 24/50\n",
      "3213/3213 [==============================] - 12s 4ms/step - loss: 9.9608e-04\n",
      "Epoch 25/50\n",
      "3213/3213 [==============================] - 12s 4ms/step - loss: 0.0010\n",
      "Epoch 26/50\n",
      "3213/3213 [==============================] - 12s 4ms/step - loss: 0.0011\n",
      "Epoch 27/50\n",
      "3213/3213 [==============================] - 12s 4ms/step - loss: 0.0010\n",
      "Epoch 28/50\n",
      "3213/3213 [==============================] - 12s 4ms/step - loss: 0.0010\n",
      "Epoch 29/50\n",
      "3213/3213 [==============================] - 13s 4ms/step - loss: 9.4094e-04\n",
      "Epoch 30/50\n",
      "3213/3213 [==============================] - 12s 4ms/step - loss: 9.9942e-04\n",
      "Epoch 31/50\n",
      "3213/3213 [==============================] - 12s 4ms/step - loss: 9.8081e-04\n",
      "Epoch 32/50\n",
      "3213/3213 [==============================] - 12s 4ms/step - loss: 0.0010\n",
      "Epoch 33/50\n",
      "3213/3213 [==============================] - 12s 4ms/step - loss: 9.0339e-04\n",
      "Epoch 34/50\n",
      "3213/3213 [==============================] - 12s 4ms/step - loss: 9.3163e-04\n",
      "Epoch 35/50\n",
      "3213/3213 [==============================] - 12s 4ms/step - loss: 9.1974e-04\n",
      "Epoch 36/50\n",
      "3213/3213 [==============================] - 12s 4ms/step - loss: 9.3578e-04\n",
      "Epoch 37/50\n",
      "3213/3213 [==============================] - 12s 4ms/step - loss: 8.5942e-04\n",
      "Epoch 38/50\n",
      "3213/3213 [==============================] - 12s 4ms/step - loss: 8.8193e-04\n",
      "Epoch 39/50\n",
      "3213/3213 [==============================] - 12s 4ms/step - loss: 8.4347e-04\n",
      "Epoch 40/50\n",
      "3213/3213 [==============================] - 12s 4ms/step - loss: 8.7407e-04\n",
      "Epoch 41/50\n",
      "3213/3213 [==============================] - 12s 4ms/step - loss: 8.9858e-04\n",
      "Epoch 42/50\n",
      "3213/3213 [==============================] - 12s 4ms/step - loss: 7.6546e-04\n",
      "Epoch 43/50\n",
      "3213/3213 [==============================] - 12s 4ms/step - loss: 9.4604e-04\n",
      "Epoch 44/50\n",
      "3213/3213 [==============================] - 12s 4ms/step - loss: 9.0774e-04\n",
      "Epoch 45/50\n",
      "3213/3213 [==============================] - 12s 4ms/step - loss: 8.3157e-04\n",
      "Epoch 46/50\n",
      "3213/3213 [==============================] - 12s 4ms/step - loss: 7.8831e-04\n",
      "Epoch 47/50\n",
      "3213/3213 [==============================] - 13s 4ms/step - loss: 8.1373e-04\n",
      "Epoch 48/50\n",
      "3213/3213 [==============================] - 16s 5ms/step - loss: 8.1509e-04\n",
      "Epoch 49/50\n",
      "3213/3213 [==============================] - 13s 4ms/step - loss: 8.1046e-04\n",
      "Epoch 50/50\n",
      "3213/3213 [==============================] - 13s 4ms/step - loss: 8.2871e-04\n"
     ]
    },
    {
     "data": {
      "text/plain": [
       "<keras.callbacks.History at 0x7fc447deee80>"
      ]
     },
     "execution_count": 4,
     "metadata": {},
     "output_type": "execute_result"
    }
   ],
   "source": [
    "regressor = Sequential()\n",
    "\n",
    "regressor.add(LSTM(units=50, return_sequences=True, input_shape=(X_train.shape[1],1)))\n",
    "regressor.add(Dropout(0.2))\n",
    "\n",
    "regressor.add(LSTM(units=50, return_sequences=True))\n",
    "regressor.add(Dropout(0.2))\n",
    "\n",
    "regressor.add(LSTM(units=50, return_sequences=True))\n",
    "regressor.add(Dropout(0.2))\n",
    "\n",
    "regressor.add(LSTM(units=50))\n",
    "regressor.add(Dropout(0.2))\n",
    "\n",
    "regressor.add(Dense(units=1))\n",
    "\n",
    "regressor.compile('adam', loss='mean_squared_error')\n",
    "\n",
    "regressor.fit(X_train, y_train, batch_size=32, epochs=50)"
   ]
  },
  {
   "cell_type": "code",
   "execution_count": 17,
   "metadata": {},
   "outputs": [
    {
     "name": "stdout",
     "output_type": "stream",
     "text": [
      "_________________________________________________________________\n",
      "Layer (type)                 Output Shape              Param #   \n",
      "=================================================================\n",
      "lstm_1 (LSTM)                (None, 60, 50)            10400     \n",
      "_________________________________________________________________\n",
      "dropout_1 (Dropout)          (None, 60, 50)            0         \n",
      "_________________________________________________________________\n",
      "lstm_2 (LSTM)                (None, 60, 50)            20200     \n",
      "_________________________________________________________________\n",
      "dropout_2 (Dropout)          (None, 60, 50)            0         \n",
      "_________________________________________________________________\n",
      "lstm_3 (LSTM)                (None, 60, 50)            20200     \n",
      "_________________________________________________________________\n",
      "dropout_3 (Dropout)          (None, 60, 50)            0         \n",
      "_________________________________________________________________\n",
      "lstm_4 (LSTM)                (None, 50)                20200     \n",
      "_________________________________________________________________\n",
      "dropout_4 (Dropout)          (None, 50)                0         \n",
      "_________________________________________________________________\n",
      "dense_1 (Dense)              (None, 1)                 51        \n",
      "=================================================================\n",
      "Total params: 71,051\n",
      "Trainable params: 71,051\n",
      "Non-trainable params: 0\n",
      "_________________________________________________________________\n"
     ]
    }
   ],
   "source": [
    "regressor.summary()"
   ]
  },
  {
   "cell_type": "code",
   "execution_count": 14,
   "metadata": {},
   "outputs": [
    {
     "data": {
      "image/png": "[encoded data removed]",
      "text/plain": [
       "<Figure size 432x288 with 1 Axes>"
      ]
     },
     "metadata": {
      "needs_background": "light"
     },
     "output_type": "display_data"
    }
   ],
   "source": [
    "dataset_test = pd.read_csv('AAPL2.csv')\n",
    "real_values = dataset_test.iloc[:, 1:2].values\n",
    "dataset_total = pd.concat((dataset_train['Open'], dataset_test['Open']), axis=0)\n",
    "dataset_total = dataset_total[len(dataset_total) - len(dataset_test) - 60:].values\n",
    "dataset_total = dataset_total.reshape(-1, 1)\n",
    "X_test = []\n",
    "\n",
    "for i in range(60, dataset_total.shape[0]):\n",
    "    X_test.append(dataset_total[i-60: i, 0])\n",
    "\n",
    "X_test = np.array(X_test)\n",
    "\n",
    "X_test = sc.transform(X_test)\n",
    "\n",
    "X_test = np.reshape(X_test, (X_test.shape[0], X_test.shape[1], 1))\n",
    "\n",
    "pred = loaded_model.predict(X_test)\n",
    "\n",
    "pred = sc.inverse_transform(pred)\n",
    "\n",
    "# Visualising Results\n",
    "plt.plot(real_values, label = 'real values')\n",
    "plt.plot(pred, label = 'predicted values')\n",
    "plt.xlabel('Time')\n",
    "plt.ylabel('Stock Prices')\n",
    "plt.legend()\n",
    "plt.show()"
   ]
  },
  {
   "cell_type": "code",
   "execution_count": 18,
   "metadata": {},
   "outputs": [
    {
     "data": {
      "image/png": "[encoded data removed]",
      "text/plain": [
       "<Figure size 432x288 with 1 Axes>"
      ]
     },
     "metadata": {
      "needs_background": "light"
     },
     "output_type": "display_data"
    }
   ],
   "source": [
    "dataset_test = pd.read_csv('AAPL_test.csv')\n",
    "real_values = dataset_test.iloc[:, 1:2].values\n",
    "dataset_total = pd.concat((dataset_train['Open'], dataset_test['Open']), axis=0)\n",
    "dataset_total = dataset_total[len(dataset_total) - len(dataset_test) - 60:].values\n",
    "dataset_total = dataset_total.reshape(-1, 1)\n",
    "X_test = []\n",
    "\n",
    "for i in range(60, dataset_total.shape[0]):\n",
    "    X_test.append(dataset_total[i-60: i, 0])\n",
    "\n",
    "X_test = np.array(X_test)\n",
    "\n",
    "X_test = sc.transform(X_test)\n",
    "\n",
    "X_test = np.reshape(X_test, (X_test.shape[0], X_test.shape[1], 1))\n",
    "\n",
    "pred = regressor.predict(X_test)\n",
    "\n",
    "pred = sc.inverse_transform(pred)\n",
    "\n",
    "# Visualising Results\n",
    "plt.plot(real_values, label = 'real values')\n",
    "plt.plot(pred, label = 'predicted values')\n",
    "plt.xlabel('Time')\n",
    "plt.ylabel('Stock Prices')\n",
    "plt.legend()\n",
    "plt.show()"
   ]
  },
  {
   "cell_type": "code",
   "execution_count": 19,
   "metadata": {},
   "outputs": [
    {
     "name": "stdout",
     "output_type": "stream",
     "text": [
      "Saved model to disk\n"
     ]
    },
    {
     "data": {
      "text/plain": [
       "['apple_scaler.save']"
      ]
     },
     "execution_count": 19,
     "metadata": {},
     "output_type": "execute_result"
    }
   ],
   "source": [
    "apple_yaml = regressor.to_yaml()\n",
    "with open(\"apple.yaml\", \"w\") as yaml_file:\n",
    "    yaml_file.write(apple_yaml)\n",
    "# serialize weights to HDF5\n",
    "regressor.save_weights(\"apple.h5\")\n",
    "print(\"Saved model to disk\")\n",
    "scaler_filename = \"apple_scaler.save\"\n",
    "joblib.dump(sc, scaler_filename)"
   ]
  },
  {
   "cell_type": "markdown",
   "metadata": {},
   "source": [
    "# Microsoft"
   ]
  },
  {
   "cell_type": "code",
   "execution_count": 20,
   "metadata": {},
   "outputs": [],
   "source": [
    "dataset_train = pd.read_csv('MSFT_train.csv')\n",
    "train_dataset = dataset_train.iloc[:, 1:2].values\n",
    "train_dataset_scaled = sc.fit_transform(train_dataset)\n",
    "X_train = []\n",
    "y_train = []\n",
    "\n",
    "for i in range(60, train_dataset.shape[0]):\n",
    "    X_train.append(train_dataset_scaled[i-60: i, 0])\n",
    "    y_train.append(train_dataset_scaled[i, 0])\n",
    "\n",
    "X_train, y_train = np.array(X_train), np.array(y_train)\n",
    "\n",
    "X_train = np.reshape(X_train, (X_train.shape[0], X_train.shape[1], 1))"
   ]
  },
  {
   "cell_type": "code",
   "execution_count": 21,
   "metadata": {},
   "outputs": [
    {
     "name": "stdout",
     "output_type": "stream",
     "text": [
      "Epoch 1/50\n",
      "3213/3213 [==============================] - 15s 5ms/step - loss: 0.0098\n",
      "Epoch 2/50\n",
      "3213/3213 [==============================] - 12s 4ms/step - loss: 0.0018\n",
      "Epoch 3/50\n",
      "3213/3213 [==============================] - 12s 4ms/step - loss: 0.0014\n",
      "Epoch 4/50\n",
      "3213/3213 [==============================] - 12s 4ms/step - loss: 0.0016\n",
      "Epoch 5/50\n",
      "3213/3213 [==============================] - 12s 4ms/step - loss: 0.0013\n",
      "Epoch 6/50\n",
      "3213/3213 [==============================] - 12s 4ms/step - loss: 0.0014\n",
      "Epoch 7/50\n",
      "3213/3213 [==============================] - 12s 4ms/step - loss: 0.0013\n",
      "Epoch 8/50\n",
      "3213/3213 [==============================] - 12s 4ms/step - loss: 0.0011\n",
      "Epoch 9/50\n",
      "3213/3213 [==============================] - 12s 4ms/step - loss: 0.0012\n",
      "Epoch 10/50\n",
      "3213/3213 [==============================] - 12s 4ms/step - loss: 0.0010\n",
      "Epoch 11/50\n",
      "3213/3213 [==============================] - 12s 4ms/step - loss: 0.0011\n",
      "Epoch 12/50\n",
      "3213/3213 [==============================] - 12s 4ms/step - loss: 8.9641e-04\n",
      "Epoch 13/50\n",
      "3213/3213 [==============================] - 12s 4ms/step - loss: 9.4252e-04\n",
      "Epoch 14/50\n",
      "3213/3213 [==============================] - 12s 4ms/step - loss: 9.4691e-04\n",
      "Epoch 15/50\n",
      "3213/3213 [==============================] - 12s 4ms/step - loss: 8.6928e-04\n",
      "Epoch 16/50\n",
      "3213/3213 [==============================] - 12s 4ms/step - loss: 9.8741e-04\n",
      "Epoch 17/50\n",
      "3213/3213 [==============================] - 12s 4ms/step - loss: 9.0249e-04\n",
      "Epoch 18/50\n",
      "3213/3213 [==============================] - 12s 4ms/step - loss: 7.7810e-04\n",
      "Epoch 19/50\n",
      "3213/3213 [==============================] - 12s 4ms/step - loss: 8.1748e-04\n",
      "Epoch 20/50\n",
      "3213/3213 [==============================] - 12s 4ms/step - loss: 8.3697e-04\n",
      "Epoch 21/50\n",
      "3213/3213 [==============================] - 12s 4ms/step - loss: 8.2860e-04\n",
      "Epoch 22/50\n",
      "3213/3213 [==============================] - 12s 4ms/step - loss: 7.3491e-04\n",
      "Epoch 23/50\n",
      "3213/3213 [==============================] - 12s 4ms/step - loss: 7.6834e-04\n",
      "Epoch 24/50\n",
      "3213/3213 [==============================] - 12s 4ms/step - loss: 7.2182e-04\n",
      "Epoch 25/50\n",
      "3213/3213 [==============================] - 12s 4ms/step - loss: 6.8072e-04\n",
      "Epoch 26/50\n",
      "3213/3213 [==============================] - 12s 4ms/step - loss: 6.7093e-04\n",
      "Epoch 27/50\n",
      "3213/3213 [==============================] - 12s 4ms/step - loss: 6.8125e-04\n",
      "Epoch 28/50\n",
      "3213/3213 [==============================] - 12s 4ms/step - loss: 6.3205e-04\n",
      "Epoch 29/50\n",
      "3213/3213 [==============================] - 12s 4ms/step - loss: 7.0178e-04\n",
      "Epoch 30/50\n",
      "3213/3213 [==============================] - 12s 4ms/step - loss: 6.5405e-04\n",
      "Epoch 31/50\n",
      "3213/3213 [==============================] - 12s 4ms/step - loss: 6.2457e-04\n",
      "Epoch 32/50\n",
      "3213/3213 [==============================] - 15s 5ms/step - loss: 6.0366e-04\n",
      "Epoch 33/50\n",
      "3213/3213 [==============================] - 12s 4ms/step - loss: 6.0486e-04\n",
      "Epoch 34/50\n",
      "3213/3213 [==============================] - 12s 4ms/step - loss: 6.7486e-04\n",
      "Epoch 35/50\n",
      "3213/3213 [==============================] - 12s 4ms/step - loss: 6.1863e-04\n",
      "Epoch 36/50\n",
      "3213/3213 [==============================] - 12s 4ms/step - loss: 6.0613e-04\n",
      "Epoch 37/50\n",
      "3213/3213 [==============================] - 12s 4ms/step - loss: 6.2073e-04\n",
      "Epoch 38/50\n",
      "3213/3213 [==============================] - 12s 4ms/step - loss: 5.7404e-04\n",
      "Epoch 39/50\n",
      "3213/3213 [==============================] - 13s 4ms/step - loss: 5.9100e-04\n",
      "Epoch 40/50\n",
      "3213/3213 [==============================] - 14s 4ms/step - loss: 5.7209e-04\n",
      "Epoch 41/50\n",
      "3213/3213 [==============================] - 15s 5ms/step - loss: 5.6489e-04\n",
      "Epoch 42/50\n",
      "3213/3213 [==============================] - 12s 4ms/step - loss: 5.6079e-04\n",
      "Epoch 43/50\n",
      "3213/3213 [==============================] - 14s 4ms/step - loss: 6.1836e-04\n",
      "Epoch 44/50\n",
      "3213/3213 [==============================] - 14s 4ms/step - loss: 5.3965e-04\n",
      "Epoch 45/50\n",
      "3213/3213 [==============================] - 13s 4ms/step - loss: 5.2014e-04\n",
      "Epoch 46/50\n",
      "3213/3213 [==============================] - 13s 4ms/step - loss: 5.9858e-04\n",
      "Epoch 47/50\n",
      "3213/3213 [==============================] - 14s 4ms/step - loss: 5.3944e-04\n",
      "Epoch 48/50\n",
      "3213/3213 [==============================] - 12s 4ms/step - loss: 5.8720e-04\n",
      "Epoch 49/50\n",
      "3213/3213 [==============================] - 14s 4ms/step - loss: 5.3109e-04\n",
      "Epoch 50/50\n",
      "3213/3213 [==============================] - 16s 5ms/step - loss: 5.4547e-04\n"
     ]
    },
    {
     "data": {
      "text/plain": [
       "<keras.callbacks.History at 0x7fd73a011dd8>"
      ]
     },
     "execution_count": 21,
     "metadata": {},
     "output_type": "execute_result"
    }
   ],
   "source": [
    "regressor = Sequential()\n",
    "\n",
    "regressor.add(LSTM(units=50, return_sequences=True, input_shape=(X_train.shape[1],1)))\n",
    "regressor.add(Dropout(0.2))\n",
    "\n",
    "regressor.add(LSTM(units=50, return_sequences=True))\n",
    "regressor.add(Dropout(0.2))\n",
    "\n",
    "regressor.add(LSTM(units=50, return_sequences=True))\n",
    "regressor.add(Dropout(0.2))\n",
    "\n",
    "regressor.add(LSTM(units=50))\n",
    "regressor.add(Dropout(0.2))\n",
    "\n",
    "regressor.add(Dense(units=1))\n",
    "\n",
    "regressor.compile('adam', loss='mean_squared_error')\n",
    "\n",
    "regressor.fit(X_train, y_train, batch_size=32, epochs=50)"
   ]
  },
  {
   "cell_type": "code",
   "execution_count": 22,
   "metadata": {},
   "outputs": [
    {
     "data": {
      "image/png": "[encoded data removed]",
      "text/plain": [
       "<Figure size 432x288 with 1 Axes>"
      ]
     },
     "metadata": {
      "needs_background": "light"
     },
     "output_type": "display_data"
    }
   ],
   "source": [
    "dataset_test = pd.read_csv('MSFT_test.csv')\n",
    "real_values = dataset_test.iloc[:, 1:2].values\n",
    "dataset_total = pd.concat((dataset_train['Open'], dataset_test['Open']), axis=0)\n",
    "dataset_total = dataset_total[len(dataset_total) - len(dataset_test) - 60:].values\n",
    "dataset_total = dataset_total.reshape(-1, 1)\n",
    "X_test = []\n",
    "\n",
    "for i in range(60, dataset_total.shape[0]):\n",
    "    X_test.append(dataset_total[i-60: i, 0])\n",
    "\n",
    "X_test = np.array(X_test)\n",
    "\n",
    "X_test = sc.transform(X_test)\n",
    "\n",
    "X_test = np.reshape(X_test, (X_test.shape[0], X_test.shape[1], 1))\n",
    "\n",
    "pred = regressor.predict(X_test)\n",
    "\n",
    "pred = sc.inverse_transform(pred)\n",
    "\n",
    "# Visualising Results\n",
    "plt.plot(real_values, label = 'real values')\n",
    "plt.plot(pred, label = 'predicted values')\n",
    "plt.xlabel('Time')\n",
    "plt.ylabel('Stock Prices')\n",
    "plt.legend()\n",
    "plt.show()"
   ]
  },
  {
   "cell_type": "code",
   "execution_count": 23,
   "metadata": {},
   "outputs": [
    {
     "name": "stdout",
     "output_type": "stream",
     "text": [
      "Saved model to disk\n"
     ]
    },
    {
     "data": {
      "text/plain": [
       "['MSFT_scaler.save']"
      ]
     },
     "execution_count": 23,
     "metadata": {},
     "output_type": "execute_result"
    }
   ],
   "source": [
    "MSFT_yaml = regressor.to_yaml()\n",
    "with open(\"MSFT.yaml\", \"w\") as yaml_file:\n",
    "    yaml_file.write(MSFT_yaml)\n",
    "# serialize weights to HDF5\n",
    "regressor.save_weights(\"MSFT.h5\")\n",
    "print(\"Saved model to disk\")\n",
    "scaler_filename = \"MSFT_scaler.save\"\n",
    "joblib.dump(sc, scaler_filename) \n"
   ]
  }
 ],
 "metadata": {
  "kernelspec": {
   "display_name": "Python 3",
   "language": "python",
   "name": "python3"
  },
  "language_info": {
   "codemirror_mode": {
    "name": "ipython",
    "version": 3
   },
   "file_extension": ".py",
   "mimetype": "text/x-python",
   "name": "python",
   "nbconvert_exporter": "python",
   "pygments_lexer": "ipython3",
   "version": "3.6.7"
  }
 },
 "nbformat": 4,
 "nbformat_minor": 2
}
