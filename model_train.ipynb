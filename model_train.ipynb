{
 "cells": [
  {
   "cell_type": "code",
   "execution_count": 1,
   "metadata": {},
   "outputs": [],
   "source": [
    "# Part 1 Data Preprocessing\n",
    "\n",
    "# Importing Packages\n",
    "import numpy as np\n",
    "import matplotlib.pyplot as plt\n",
    "import pandas as pd"
   ]
  },
  {
   "cell_type": "code",
   "execution_count": 2,
   "metadata": {},
   "outputs": [],
   "source": [
    "# Importing Dataset\n",
    "dataset_train = pd.read_csv('train.csv')\n",
    "train_dataset = dataset_train.iloc[:, 1:2].values"
   ]
  },
  {
   "cell_type": "code",
   "execution_count": 3,
   "metadata": {},
   "outputs": [
    {
     "data": {
      "text/plain": [
       "(3273, 1)"
      ]
     },
     "execution_count": 3,
     "metadata": {},
     "output_type": "execute_result"
    }
   ],
   "source": [
    "train_dataset.shape"
   ]
  },
  {
   "cell_type": "code",
   "execution_count": 5,
   "metadata": {},
   "outputs": [],
   "source": [
    "# Scaling\n",
    "from sklearn.preprocessing import MinMaxScaler\n",
    "sc = MinMaxScaler()\n",
    "train_dataset_scaled = sc.fit_transform(train_dataset)"
   ]
  },
  {
   "cell_type": "code",
   "execution_count": 6,
   "metadata": {},
   "outputs": [],
   "source": [
    "X_train = []\n",
    "y_train = []\n",
    "\n",
    "for i in range(60, 3273):\n",
    "    X_train.append(train_dataset_scaled[i-60: i, 0])\n",
    "    y_train.append(train_dataset_scaled[i, 0])\n",
    "\n",
    "X_train, y_train = np.array(X_train), np.array(y_train)\n",
    "\n",
    "X_train = np.reshape(X_train, (X_train.shape[0], X_train.shape[1], 1))"
   ]
  },
  {
   "cell_type": "code",
   "execution_count": 12,
   "metadata": {},
   "outputs": [
    {
     "data": {
      "text/plain": [
       "(3213, 60, 1)"
      ]
     },
     "execution_count": 12,
     "metadata": {},
     "output_type": "execute_result"
    }
   ],
   "source": [
    "X_train.shape"
   ]
  },
  {
   "cell_type": "code",
   "execution_count": 7,
   "metadata": {},
   "outputs": [
    {
     "name": "stderr",
     "output_type": "stream",
     "text": [
      "Using TensorFlow backend.\n"
     ]
    },
    {
     "name": "stdout",
     "output_type": "stream",
     "text": [
      "Epoch 1/50\n",
      "3213/3213 [==============================] - 17s 5ms/step - loss: 0.0106\n",
      "Epoch 2/50\n",
      "3213/3213 [==============================] - 14s 4ms/step - loss: 0.0021\n",
      "Epoch 3/50\n",
      "3213/3213 [==============================] - 14s 4ms/step - loss: 0.0022\n",
      "Epoch 4/50\n",
      "3213/3213 [==============================] - 14s 4ms/step - loss: 0.0018\n",
      "Epoch 5/50\n",
      "3213/3213 [==============================] - 14s 4ms/step - loss: 0.0019\n",
      "Epoch 6/50\n",
      "3213/3213 [==============================] - 15s 5ms/step - loss: 0.0015\n",
      "Epoch 7/50\n",
      "3213/3213 [==============================] - 14s 4ms/step - loss: 0.0014\n",
      "Epoch 8/50\n",
      "3213/3213 [==============================] - 15s 5ms/step - loss: 0.0012\n",
      "Epoch 9/50\n",
      "3213/3213 [==============================] - 14s 4ms/step - loss: 0.0014\n",
      "Epoch 10/50\n",
      "3213/3213 [==============================] - 14s 4ms/step - loss: 0.0013\n",
      "Epoch 11/50\n",
      "3213/3213 [==============================] - 14s 4ms/step - loss: 0.0013\n",
      "Epoch 12/50\n",
      "3213/3213 [==============================] - 14s 4ms/step - loss: 0.0012\n",
      "Epoch 13/50\n",
      "3213/3213 [==============================] - 15s 5ms/step - loss: 0.0011\n",
      "Epoch 14/50\n",
      "3213/3213 [==============================] - 14s 4ms/step - loss: 0.0010\n",
      "Epoch 15/50\n",
      "3213/3213 [==============================] - 14s 4ms/step - loss: 0.0012\n",
      "Epoch 16/50\n",
      "3213/3213 [==============================] - 14s 4ms/step - loss: 9.5645e-04\n",
      "Epoch 17/50\n",
      "3213/3213 [==============================] - 14s 4ms/step - loss: 0.0011\n",
      "Epoch 18/50\n",
      "3213/3213 [==============================] - 14s 4ms/step - loss: 0.0010\n",
      "Epoch 19/50\n",
      "3213/3213 [==============================] - 14s 4ms/step - loss: 9.5003e-04\n",
      "Epoch 20/50\n",
      "3213/3213 [==============================] - 14s 4ms/step - loss: 0.0010\n",
      "Epoch 21/50\n",
      "3213/3213 [==============================] - 14s 4ms/step - loss: 0.0010\n",
      "Epoch 22/50\n",
      "3213/3213 [==============================] - 14s 4ms/step - loss: 9.3204e-04\n",
      "Epoch 23/50\n",
      "3213/3213 [==============================] - 15s 5ms/step - loss: 8.4385e-04\n",
      "Epoch 24/50\n",
      "3213/3213 [==============================] - 14s 4ms/step - loss: 8.6804e-04\n",
      "Epoch 25/50\n",
      "3213/3213 [==============================] - 15s 5ms/step - loss: 8.5890e-04\n",
      "Epoch 26/50\n",
      "3213/3213 [==============================] - 14s 4ms/step - loss: 9.6339e-04\n",
      "Epoch 27/50\n",
      "3213/3213 [==============================] - 13s 4ms/step - loss: 7.5463e-04\n",
      "Epoch 28/50\n",
      "3213/3213 [==============================] - 12s 4ms/step - loss: 9.6225e-04\n",
      "Epoch 29/50\n",
      "3213/3213 [==============================] - 12s 4ms/step - loss: 7.2360e-04\n",
      "Epoch 30/50\n",
      "3213/3213 [==============================] - 13s 4ms/step - loss: 7.8421e-04\n",
      "Epoch 31/50\n",
      "3213/3213 [==============================] - 12s 4ms/step - loss: 8.0194e-04\n",
      "Epoch 32/50\n",
      "3213/3213 [==============================] - 12s 4ms/step - loss: 8.8983e-04\n",
      "Epoch 33/50\n",
      "3213/3213 [==============================] - 12s 4ms/step - loss: 7.4993e-04\n",
      "Epoch 34/50\n",
      "3213/3213 [==============================] - 12s 4ms/step - loss: 7.4631e-04\n",
      "Epoch 35/50\n",
      "3213/3213 [==============================] - 12s 4ms/step - loss: 8.2654e-04\n",
      "Epoch 36/50\n",
      "3213/3213 [==============================] - 12s 4ms/step - loss: 7.7784e-04\n",
      "Epoch 37/50\n",
      "3213/3213 [==============================] - 13s 4ms/step - loss: 7.7777e-04\n",
      "Epoch 38/50\n",
      "3213/3213 [==============================] - 12s 4ms/step - loss: 7.0738e-04\n",
      "Epoch 39/50\n",
      "3213/3213 [==============================] - 12s 4ms/step - loss: 6.9384e-04\n",
      "Epoch 40/50\n",
      "3213/3213 [==============================] - 13s 4ms/step - loss: 7.3591e-04\n",
      "Epoch 41/50\n",
      "3213/3213 [==============================] - 12s 4ms/step - loss: 6.6517e-04\n",
      "Epoch 42/50\n",
      "3213/3213 [==============================] - 13s 4ms/step - loss: 6.7245e-04\n",
      "Epoch 43/50\n",
      "3213/3213 [==============================] - 13s 4ms/step - loss: 6.9408e-04\n",
      "Epoch 44/50\n",
      "3213/3213 [==============================] - 12s 4ms/step - loss: 8.0769e-04\n",
      "Epoch 45/50\n",
      "3213/3213 [==============================] - 12s 4ms/step - loss: 7.3595e-04\n",
      "Epoch 46/50\n",
      "3213/3213 [==============================] - 13s 4ms/step - loss: 6.8431e-04\n",
      "Epoch 47/50\n",
      "3213/3213 [==============================] - 12s 4ms/step - loss: 6.5518e-04\n",
      "Epoch 48/50\n",
      "3213/3213 [==============================] - 12s 4ms/step - loss: 6.9082e-04\n",
      "Epoch 49/50\n",
      "3213/3213 [==============================] - 12s 4ms/step - loss: 7.1430e-04\n",
      "Epoch 50/50\n",
      "3213/3213 [==============================] - 13s 4ms/step - loss: 6.6622e-04\n"
     ]
    },
    {
     "data": {
      "text/plain": [
       "<keras.callbacks.History at 0x7f6dc85c9d68>"
      ]
     },
     "execution_count": 7,
     "metadata": {},
     "output_type": "execute_result"
    }
   ],
   "source": [
    "# Part -2 Model\n",
    "from keras.models import Sequential\n",
    "from keras.layers import Dense, Dropout, LSTM\n",
    "\n",
    "regressor = Sequential()\n",
    "\n",
    "regressor.add(LSTM(units=50, return_sequences=True, input_shape=(X_train.shape[1],1)))\n",
    "regressor.add(Dropout(0.2))\n",
    "\n",
    "regressor.add(LSTM(units=50, return_sequences=True))\n",
    "regressor.add(Dropout(0.2))\n",
    "\n",
    "regressor.add(LSTM(units=50, return_sequences=True))\n",
    "regressor.add(Dropout(0.2))\n",
    "\n",
    "regressor.add(LSTM(units=50))\n",
    "regressor.add(Dropout(0.2))\n",
    "\n",
    "regressor.add(Dense(units=1))\n",
    "\n",
    "regressor.compile('adam', loss='mean_squared_error')\n",
    "\n",
    "regressor.fit(X_train, y_train, batch_size=32, epochs=50)"
   ]
  },
  {
   "cell_type": "code",
   "execution_count": 8,
   "metadata": {},
   "outputs": [],
   "source": [
    "dataset_test = pd.read_csv('test.csv')\n",
    "real_values = dataset_test.iloc[:, 1:2].values"
   ]
  },
  {
   "cell_type": "code",
   "execution_count": 9,
   "metadata": {},
   "outputs": [
    {
     "data": {
      "text/plain": [
       "(233, 1)"
      ]
     },
     "execution_count": 9,
     "metadata": {},
     "output_type": "execute_result"
    }
   ],
   "source": [
    "real_values.shape"
   ]
  },
  {
   "cell_type": "code",
   "execution_count": 10,
   "metadata": {},
   "outputs": [],
   "source": [
    "# Part -3 Predicting results\n",
    "\n",
    "\n",
    "dataset_total = pd.concat((dataset_train['Open'], dataset_test['Open']), axis=0)\n",
    "\n",
    "dataset_total = dataset_total[len(dataset_total) - len(dataset_test) - 60:].values\n",
    "\n",
    "dataset_total = dataset_total.reshape(-1, 1)\n",
    "\n",
    "X_test = []\n",
    "\n",
    "for i in range(60, 233):\n",
    "    X_test.append(dataset_total[i-60: i, 0])\n",
    "\n",
    "X_test = np.array(X_test)\n",
    "\n",
    "X_test = sc.transform(X_test)\n",
    "\n",
    "X_test = np.reshape(X_test, (X_test.shape[0], X_test.shape[1], 1))\n",
    "\n",
    "pred = regressor.predict(X_test)\n",
    "\n",
    "pred = sc.inverse_transform(pred)"
   ]
  },
  {
   "cell_type": "code",
   "execution_count": 11,
   "metadata": {},
   "outputs": [
    {
     "data": {
      "image/png": "[encoded data removed]",
      "text/plain": [
       "<Figure size 432x288 with 1 Axes>"
      ]
     },
     "metadata": {
      "needs_background": "light"
     },
     "output_type": "display_data"
    }
   ],
   "source": [
    "# Visualising Results\n",
    "plt.plot(real_values, label = 'real values')\n",
    "plt.plot(pred, label = 'predicted values')\n",
    "plt.xlabel('Time')\n",
    "plt.ylabel('Stock Prices')\n",
    "plt.legend()\n",
    "plt.show()"
   ]
  }
 ],
 "metadata": {
  "kernelspec": {
   "display_name": "Python 3",
   "language": "python",
   "name": "python3"
  },
  "language_info": {
   "codemirror_mode": {
    "name": "ipython",
    "version": 3
   },
   "file_extension": ".py",
   "mimetype": "text/x-python",
   "name": "python",
   "nbconvert_exporter": "python",
   "pygments_lexer": "ipython3",
   "version": "3.6.7"
  }
 },
 "nbformat": 4,
 "nbformat_minor": 2
}
